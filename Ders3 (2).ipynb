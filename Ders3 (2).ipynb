{
  "nbformat": 4,
  "nbformat_minor": 0,
  "metadata": {
    "colab": {
      "provenance": []
    },
    "kernelspec": {
      "name": "python3",
      "display_name": "Python 3"
    },
    "language_info": {
      "name": "python"
    }
  },
  "cells": [
    {
      "cell_type": "code",
      "source": [
        "print(\"Merhaba Python Algoritma sınıfı\")"
      ],
      "metadata": {
        "colab": {
          "base_uri": "https://localhost:8080/"
        },
        "id": "hjAjB5r_YXLd",
        "outputId": "5dd52be8-b45e-4c73-ace1-12cece46120d"
      },
      "execution_count": 10,
      "outputs": [
        {
          "output_type": "stream",
          "name": "stdout",
          "text": [
            "Merhaba Python Algoritma sınıfı\n"
          ]
        }
      ]
    },
    {
      "cell_type": "code",
      "execution_count": 9,
      "metadata": {
        "colab": {
          "base_uri": "https://localhost:8080/"
        },
        "id": "2bwcubrwXpT6",
        "outputId": "d77cd0c2-913b-4826-c308-36d955bee8f7"
      },
      "outputs": [
        {
          "output_type": "stream",
          "name": "stdout",
          "text": [
            "3.11.11 (main, Dec  4 2024, 08:55:07) [GCC 11.4.0]\n"
          ]
        }
      ],
      "source": [
        "import sys #import python programlama dilinde kütüphane eklemeye yarayan bir kod blogudur.\n",
        "print(sys.version)"
      ]
    },
    {
      "cell_type": "code",
      "source": [
        "from google.colab import drive\n",
        "drive.mount('/content/drive')"
      ],
      "metadata": {
        "colab": {
          "base_uri": "https://localhost:8080/"
        },
        "id": "K6bfcCYLYFGn",
        "outputId": "8e1d595b-9a29-4679-84fe-9b845ca758c5"
      },
      "execution_count": 8,
      "outputs": [
        {
          "output_type": "stream",
          "name": "stdout",
          "text": [
            "Mounted at /content/drive\n"
          ]
        }
      ]
    },
    {
      "cell_type": "code",
      "source": [
        "import os\n",
        "\n",
        "os.chdir('/content/drive/My Drive/VERIYAPILARI_PYTHON')\n",
        "\n"
      ],
      "metadata": {
        "id": "_F0WDLpOYLT2",
        "colab": {
          "base_uri": "https://localhost:8080/",
          "height": 193
        },
        "outputId": "2c5ba497-b2bf-4628-fcc3-265d1011816a"
      },
      "execution_count": 51,
      "outputs": [
        {
          "output_type": "error",
          "ename": "FileNotFoundError",
          "evalue": "[Errno 2] No such file or directory: '/content/drive/My Drive/VERIYAPILARI_PYTHON'",
          "traceback": [
            "\u001b[0;31m---------------------------------------------------------------------------\u001b[0m",
            "\u001b[0;31mFileNotFoundError\u001b[0m                         Traceback (most recent call last)",
            "\u001b[0;32m<ipython-input-51-d9c4125f1616>\u001b[0m in \u001b[0;36m<cell line: 0>\u001b[0;34m()\u001b[0m\n\u001b[1;32m      1\u001b[0m \u001b[0;32mimport\u001b[0m \u001b[0mos\u001b[0m\u001b[0;34m\u001b[0m\u001b[0;34m\u001b[0m\u001b[0m\n\u001b[1;32m      2\u001b[0m \u001b[0;34m\u001b[0m\u001b[0m\n\u001b[0;32m----> 3\u001b[0;31m \u001b[0mos\u001b[0m\u001b[0;34m.\u001b[0m\u001b[0mchdir\u001b[0m\u001b[0;34m(\u001b[0m\u001b[0;34m'/content/drive/My Drive/VERIYAPILARI_PYTHON'\u001b[0m\u001b[0;34m)\u001b[0m\u001b[0;34m\u001b[0m\u001b[0;34m\u001b[0m\u001b[0m\n\u001b[0m\u001b[1;32m      4\u001b[0m \u001b[0;34m\u001b[0m\u001b[0m\n",
            "\u001b[0;31mFileNotFoundError\u001b[0m: [Errno 2] No such file or directory: '/content/drive/My Drive/VERIYAPILARI_PYTHON'"
          ]
        }
      ]
    },
    {
      "cell_type": "code",
      "source": [
        "degisken1=10\n",
        "degisken2=20\n",
        "degisken_3=30\n",
        "_degisken_4=40\n",
        "print(degisken1)\n",
        "print(degisken2)\n",
        "print(degisken_3)\n",
        "print(_degisken_4)\n",
        "\n",
        "\n",
        "\n"
      ],
      "metadata": {
        "colab": {
          "base_uri": "https://localhost:8080/"
        },
        "id": "mgNfONoPcivp",
        "outputId": "def0a803-14d9-444f-b2f8-3384890098cc"
      },
      "execution_count": 5,
      "outputs": [
        {
          "output_type": "stream",
          "name": "stdout",
          "text": [
            "10\n",
            "20\n",
            "30\n",
            "40\n"
          ]
        }
      ]
    },
    {
      "cell_type": "code",
      "source": [
        "degisken1 = 50\n",
        "degisken1_4 = 50"
      ],
      "metadata": {
        "id": "2OQ3Bhqiesru"
      },
      "execution_count": 11,
      "outputs": []
    },
    {
      "cell_type": "code",
      "source": [
        "a = 10\n",
        "print(type(a), a)"
      ],
      "metadata": {
        "id": "TRAYUVD5f6Sj",
        "colab": {
          "base_uri": "https://localhost:8080/"
        },
        "outputId": "171f83d9-2647-4d89-c2c3-099f26b03342"
      },
      "execution_count": 3,
      "outputs": [
        {
          "output_type": "stream",
          "name": "stdout",
          "text": [
            "<class 'int'> 10\n"
          ]
        }
      ]
    },
    {
      "cell_type": "code",
      "source": [
        "b = 20.5\n",
        "print(type(b), b)"
      ],
      "metadata": {
        "colab": {
          "base_uri": "https://localhost:8080/"
        },
        "id": "MefTZPjGIkJb",
        "outputId": "9242289c-1a1d-453a-bf08-a48d961524f4"
      },
      "execution_count": 12,
      "outputs": [
        {
          "output_type": "stream",
          "name": "stdout",
          "text": [
            "<class 'float'> 20.5\n"
          ]
        }
      ]
    },
    {
      "cell_type": "code",
      "source": [
        "# int veri tipinden float'a çevirim işlemi örneği\n",
        "\n",
        "y = 10\n",
        "\n",
        "x = float(y)\n",
        "\n",
        "print(x, type(x))\n",
        "\n",
        ""
      ],
      "metadata": {
        "colab": {
          "base_uri": "https://localhost:8080/"
        },
        "id": "ULcfd4hVJLK0",
        "outputId": "ad857a4a-dd3d-4e3f-ccd6-3abd6fec168e"
      },
      "execution_count": 28,
      "outputs": [
        {
          "output_type": "stream",
          "name": "stdout",
          "text": [
            "10.0 <class 'float'>\n"
          ]
        }
      ]
    },
    {
      "cell_type": "code",
      "source": [
        "# Boolean (true / Doğru - False / Yanlış) Değişken tanımlaması\n",
        "\n",
        "d = True # 1 - Aktif\n",
        "e = False # 0 - Pasif\n",
        "\n",
        "\n",
        "print(d)\n",
        "print(type(e))\n"
      ],
      "metadata": {
        "colab": {
          "base_uri": "https://localhost:8080/"
        },
        "id": "0gJl_D90NatP",
        "outputId": "e0b7365e-dc37-4d53-d3af-0122bee6349c"
      },
      "execution_count": 27,
      "outputs": [
        {
          "output_type": "stream",
          "name": "stdout",
          "text": [
            "True\n",
            "<class 'bool'>\n"
          ]
        }
      ]
    },
    {
      "cell_type": "code",
      "source": [
        "# List - liste --> Dizi tanımlaması\n",
        "\n",
        "liste = [1,2,3,4,5]\n",
        "\n",
        "print(type(liste),liste)"
      ],
      "metadata": {
        "colab": {
          "base_uri": "https://localhost:8080/"
        },
        "id": "k_yqDhFZOs51",
        "outputId": "53ba74a7-d4bf-4984-fa81-bc227b8114d8"
      },
      "execution_count": 34,
      "outputs": [
        {
          "output_type": "stream",
          "name": "stdout",
          "text": [
            "<class 'list'> [1, 2, 3, 4, 5]\n"
          ]
        }
      ]
    },
    {
      "cell_type": "code",
      "source": [
        " # Demet - Tuple Veri Tipi Tanımlaması\n",
        "\n",
        " demet = (1, 2, 3, 4, 5)"
      ],
      "metadata": {
        "id": "U3cHTW4HPuH8"
      },
      "execution_count": 33,
      "outputs": []
    },
    {
      "cell_type": "code",
      "source": [
        "# Dictionary - Sözlük Veri Tipi Tanımlaması\n",
        "\n",
        "# Dictionary - Sözlük Veri Tipi Tanımlaması\n",
        "\n",
        "notlar = {\n",
        "    \"Ali\": 85,\n",
        "    \"Veli\": 90,\n",
        "    \"Ayşe\" : 78\n",
        "}\n",
        "\n",
        "notlar[\"Fatma\"] = 0 # yeni öğrenci ekleme yöntemi\n",
        "\n",
        "\n",
        "\n",
        "\n",
        "\n",
        "\n"
      ],
      "metadata": {
        "id": "OA0kX4TBQ9xS"
      },
      "execution_count": 41,
      "outputs": []
    },
    {
      "cell_type": "code",
      "source": [
        "print(notlar.keys()) # değişkenler alınıyor\n",
        "print(notlar.values())\n",
        "print(notlar.items())"
      ],
      "metadata": {
        "colab": {
          "base_uri": "https://localhost:8080/"
        },
        "id": "5zTxpdfabTgh",
        "outputId": "c9ae3c64-fe2e-47fe-8635-c01ac07d2ce4"
      },
      "execution_count": 45,
      "outputs": [
        {
          "output_type": "stream",
          "name": "stdout",
          "text": [
            "dict_keys(['Ali', 'Veli', 'Ayşe', 'Fatma'])\n",
            "dict_values([85, 90, 78, 0])\n",
            "dict_items([('Ali', 85), ('Veli', 90), ('Ayşe', 78), ('Fatma', 0)])\n"
          ]
        }
      ]
    },
    {
      "cell_type": "code",
      "source": [
        "# Set Küme veri tipi\n",
        "\n",
        "kodyazanlar = {\"Ahmet\", \"Mehmet\", \"Ayşe\"}\n",
        "kodyazmayanlar = {\"Ayşe\", \"Fatma\", \"Veli\"}\n",
        "\n",
        "ortak = kodyazanlar.intersection(kodyazmayanlar)\n",
        "print(\"Kafasına Göre Takılan Arkadaşlar: \", ortak)\n",
        "\n",
        "kod_yazmayanlar = kodyazmayanlar.difference(kodyazanlar)\n",
        "print(\"Kod çalışması yapmayanlar: \", kod_yazmayanlar)\n",
        "\n",
        "imzalistesi = kodyazanlar.union(kodyazmayanlar)\n",
        "print(\"Sınıf İmza Listesi: \", imzalistesi)"
      ],
      "metadata": {
        "colab": {
          "base_uri": "https://localhost:8080/"
        },
        "id": "ia0lhoHCcOce",
        "outputId": "755afe56-7578-422d-d0cf-cbf5646e953a"
      },
      "execution_count": 46,
      "outputs": [
        {
          "output_type": "stream",
          "name": "stdout",
          "text": [
            "Kafasına Göre Takılan Arkadaşlar:  {'Ayşe'}\n",
            "Kod çalışması yapmayanlar:  {'Fatma', 'Veli'}\n",
            "Sınıf İmza Listesi:  {'Ayşe', 'Veli', 'Ahmet', 'Fatma', 'Mehmet'}\n"
          ]
        }
      ]
    },
    {
      "cell_type": "code",
      "source": [
        "giris = input(\"Bir Sayı Giriniz:\")\n",
        "\n",
        "print(giris)\n",
        "\n"
      ],
      "metadata": {
        "colab": {
          "base_uri": "https://localhost:8080/"
        },
        "id": "xQoZWOghfVZd",
        "outputId": "66c833b1-c328-41f4-9688-78bbc75454aa"
      },
      "execution_count": 57,
      "outputs": [
        {
          "output_type": "stream",
          "name": "stdout",
          "text": [
            "Bir Sayı Giriniz:12345\n",
            "12345\n"
          ]
        }
      ]
    },
    {
      "cell_type": "code",
      "source": [
        "giris = input(\"Bir Sayı Giriniz:\")\n",
        "try:\n",
        "    numara = float(giris)\n",
        "    print(\"Girilen Sayı: \", numara)\n",
        "except ValueError:\n",
        "    print(\"Hatalı Bilgi Girişi Yaptınız Lütfen Tekrar Deneyiniz!\")\n",
        ""
      ],
      "metadata": {
        "colab": {
          "base_uri": "https://localhost:8080/"
        },
        "id": "hq5CdHHgfiCX",
        "outputId": "eeed5c2a-4088-49dd-c8d6-b6b9cd19322e"
      },
      "execution_count": 59,
      "outputs": [
        {
          "output_type": "stream",
          "name": "stdout",
          "text": [
            "Bir Sayı Giriniz:12345\n",
            "Girilen Sayı:  12345.0\n"
          ]
        }
      ]
    },
    {
      "cell_type": "code",
      "source": [
        "giris = input(\"Bir Sayı Giriniz:\")\n",
        "try:\n",
        "    numara = float(giris)\n",
        "    print(\"Girilen Sayı: \", numara)\n",
        "except ValueError:\n",
        "    print(\"Hatalı Bilgi Girişi Yaptınız Lütfen Tekrar Deneyiniz!\")\n",
        ""
      ],
      "metadata": {
        "colab": {
          "base_uri": "https://localhost:8080/"
        },
        "id": "Uz_0jjN1fl8v",
        "outputId": "c29eb54b-1229-4df5-8916-1c9b9bbb2020"
      },
      "execution_count": 60,
      "outputs": [
        {
          "output_type": "stream",
          "name": "stdout",
          "text": [
            "Bir Sayı Giriniz:12345\n",
            "Girilen Sayı:  12345.0\n"
          ]
        }
      ]
    },
    {
      "cell_type": "code",
      "source": [
        "import random\n",
        "\n",
        "rastgele2 = random.randint(1, 100) # randint fonksiyonu bize istediğimiz aralıkta rastgele bir sayı üreten fonksiyondur.\n",
        "\n",
        "print(\"Rastgele Gelen Deger: \", rastgele2)"
      ],
      "metadata": {
        "colab": {
          "base_uri": "https://localhost:8080/"
        },
        "id": "cj39bphLgBrc",
        "outputId": "126aaf6a-0d8c-41e0-b512-7d42a997db71"
      },
      "execution_count": 62,
      "outputs": [
        {
          "output_type": "stream",
          "name": "stdout",
          "text": [
            "Rastgele Gelen Deger:  11\n"
          ]
        }
      ]
    }
  ]
}